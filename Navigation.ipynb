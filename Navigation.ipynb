{
 "cells": [
  {
   "cell_type": "markdown",
   "metadata": {},
   "source": [
    "# Navigation\n",
    "\n",
    "---\n",
    "\n",
    "In this notebook, you will learn how to use the Unity ML-Agents environment for the first project of the [Deep Reinforcement Learning Nanodegree](https://www.udacity.com/course/deep-reinforcement-learning-nanodegree--nd893).\n",
    "\n",
    "### 1. Start the Environment\n",
    "\n",
    "We begin by importing some necessary packages.  If the code cell below returns an error, please revisit the project instructions to double-check that you have installed [Unity ML-Agents](https://github.com/Unity-Technologies/ml-agents/blob/master/docs/Installation.md) and [NumPy](http://www.numpy.org/)."
   ]
  },
  {
   "cell_type": "code",
   "execution_count": 1,
   "metadata": {
    "collapsed": true
   },
   "outputs": [],
   "source": [
    "from unityagents import UnityEnvironment\n",
    "import numpy as np"
   ]
  },
  {
   "cell_type": "markdown",
   "metadata": {},
   "source": [
    "Next, we will start the environment!  **_Before running the code cell below_**, change the `file_name` parameter to match the location of the Unity environment that you downloaded.\n",
    "\n",
    "- **Mac**: `\"path/to/Banana.app\"`\n",
    "- **Windows** (x86): `\"path/to/Banana_Windows_x86/Banana.exe\"`\n",
    "- **Windows** (x86_64): `\"path/to/Banana_Windows_x86_64/Banana.exe\"`\n",
    "- **Linux** (x86): `\"path/to/Banana_Linux/Banana.x86\"`\n",
    "- **Linux** (x86_64): `\"path/to/Banana_Linux/Banana.x86_64\"`\n",
    "- **Linux** (x86, headless): `\"path/to/Banana_Linux_NoVis/Banana.x86\"`\n",
    "- **Linux** (x86_64, headless): `\"path/to/Banana_Linux_NoVis/Banana.x86_64\"`\n",
    "\n",
    "For instance, if you are using a Mac, then you downloaded `Banana.app`.  If this file is in the same folder as the notebook, then the line below should appear as follows:\n",
    "```\n",
    "env = UnityEnvironment(file_name=\"Banana.app\")\n",
    "```"
   ]
  },
  {
   "cell_type": "code",
   "execution_count": 2,
   "metadata": {},
   "outputs": [
    {
     "name": "stderr",
     "output_type": "stream",
     "text": [
      "INFO:unityagents:\n",
      "'Academy' started successfully!\n",
      "Unity Academy name: Academy\n",
      "        Number of Brains: 1\n",
      "        Number of External Brains : 1\n",
      "        Lesson number : 0\n",
      "        Reset Parameters :\n",
      "\t\t\n",
      "Unity brain name: BananaBrain\n",
      "        Number of Visual Observations (per agent): 0\n",
      "        Vector Observation space type: continuous\n",
      "        Vector Observation space size (per agent): 37\n",
      "        Number of stacked Vector Observation: 1\n",
      "        Vector Action space type: discrete\n",
      "        Vector Action space size (per agent): 4\n",
      "        Vector Action descriptions: , , , \n"
     ]
    }
   ],
   "source": [
    "env = UnityEnvironment(file_name=\"/home/psardar/DRLND/deep-reinforcement-learning/p1_navigation/Banana_Linux/Banana.x86_64\")"
   ]
  },
  {
   "cell_type": "markdown",
   "metadata": {},
   "source": [
    "Environments contain **_brains_** which are responsible for deciding the actions of their associated agents. Here we check for the first brain available, and set it as the default brain we will be controlling from Python."
   ]
  },
  {
   "cell_type": "code",
   "execution_count": 3,
   "metadata": {
    "collapsed": true
   },
   "outputs": [],
   "source": [
    "# get the default brain\n",
    "brain_name = env.brain_names[0]\n",
    "brain = env.brains[brain_name]"
   ]
  },
  {
   "cell_type": "markdown",
   "metadata": {},
   "source": [
    "### 2. Examine the State and Action Spaces\n",
    "\n",
    "The simulation contains a single agent that navigates a large environment.  At each time step, it has four actions at its disposal:\n",
    "- `0` - walk forward \n",
    "- `1` - walk backward\n",
    "- `2` - turn left\n",
    "- `3` - turn right\n",
    "\n",
    "The state space has `37` dimensions and contains the agent's velocity, along with ray-based perception of objects around agent's forward direction.  A reward of `+1` is provided for collecting a yellow banana, and a reward of `-1` is provided for collecting a blue banana. \n",
    "\n",
    "Run the code cell below to print some information about the environment."
   ]
  },
  {
   "cell_type": "code",
   "execution_count": 4,
   "metadata": {},
   "outputs": [
    {
     "name": "stdout",
     "output_type": "stream",
     "text": [
      "Number of agents: 1\n",
      "Number of actions: 4\n",
      "States look like: [1.         0.         0.         0.         0.84408134 0.\n",
      " 0.         1.         0.         0.0748472  0.         1.\n",
      " 0.         0.         0.25755    1.         0.         0.\n",
      " 0.         0.74177343 0.         1.         0.         0.\n",
      " 0.25854847 0.         0.         1.         0.         0.09355672\n",
      " 0.         1.         0.         0.         0.31969345 0.\n",
      " 0.        ]\n",
      "States have length: 37\n"
     ]
    }
   ],
   "source": [
    "# reset the environment\n",
    "env_info = env.reset(train_mode=True)[brain_name]\n",
    "\n",
    "# number of agents in the environment\n",
    "print('Number of agents:', len(env_info.agents))\n",
    "\n",
    "# number of actions\n",
    "action_size = brain.vector_action_space_size\n",
    "print('Number of actions:', action_size)\n",
    "\n",
    "# examine the state space \n",
    "state = env_info.vector_observations[0]\n",
    "print('States look like:', state)\n",
    "state_size = len(state)\n",
    "print('States have length:', state_size)"
   ]
  },
  {
   "cell_type": "markdown",
   "metadata": {},
   "source": [
    "### 3. Take Random Actions in the Environment\n",
    "\n",
    "In the next code cell, you will learn how to use the Python API to control the agent and receive feedback from the environment.\n",
    "\n",
    "Once this cell is executed, you will watch the agent's performance, if it selects an action (uniformly) at random with each time step.  A window should pop up that allows you to observe the agent, as it moves through the environment.  \n",
    "\n",
    "Of course, as part of the project, you'll have to change the code so that the agent is able to use its experience to gradually choose better actions when interacting with the environment!"
   ]
  },
  {
   "cell_type": "code",
   "execution_count": 5,
   "metadata": {
    "collapsed": true
   },
   "outputs": [],
   "source": [
    "from dqn_agent import Agent\n",
    "from collections import deque\n",
    "import matplotlib.pyplot as plt\n",
    "import torch\n",
    "\n",
    "agent = Agent(state_size=state_size, action_size=action_size, seed=0)\n"
   ]
  },
  {
   "cell_type": "markdown",
   "metadata": {},
   "source": [
    "When finished, you can close the environment."
   ]
  },
  {
   "cell_type": "code",
   "execution_count": 6,
   "metadata": {
    "collapsed": true
   },
   "outputs": [],
   "source": [
    "def dqn(n_episodes=1000, max_t=1000, eps_start=1.0, eps_end=0.01, eps_decay=0.80):\n",
    "    \"\"\"Deep Q-Learning.\n",
    "    Params\n",
    "    ======\n",
    "        n_episodes (int): maximum number of training episodes\n",
    "        max_t (int): maximum number of timesteps per episode\n",
    "        eps_start (float): starting value of epsilon, for epsilon-greedy action selection\n",
    "        eps_end (float): minimum value of epsilon\n",
    "        eps_decay (float): multiplicative factor (per episode) for decreasing epsilon\n",
    "    \"\"\"\n",
    "    scores = []  # list containing scores from each episode\n",
    "    scores_window = deque(maxlen=100)  # last 100 scores\n",
    "    eps = eps_start  # initialize epsilon\n",
    "    last_saved = 0.0\n",
    "    for i_episode in range(1, n_episodes + 1):\n",
    "        env_info = env.reset(train_mode=True)[brain_name]  # reset the environment\n",
    "        state = env_info.vector_observations[0]  # get the current state\n",
    "        score = 0\n",
    "        for t in range(max_t):\n",
    "            action = agent.act(state, eps)\n",
    "            env_info = env.step([action])[brain_name]\n",
    "            next_state = env_info.vector_observations[0]\n",
    "            reward = env_info.rewards[0]\n",
    "            done = env_info.local_done[0]\n",
    "            agent.step(state, action, reward, next_state, done)\n",
    "            state = next_state\n",
    "            score += reward\n",
    "            if done:\n",
    "                break\n",
    "        scores_window.append(score)  # save most recent score\n",
    "        scores.append(score)  # save most recent score\n",
    "        eps = max(eps_end, eps_decay * eps)  # decrease epsilon\n",
    "        print('\\rEpisode {}\\tAverage Score: {:.2f}'.format(i_episode, np.mean(scores_window)), end=\"\")\n",
    "        if i_episode % 100 == 0:\n",
    "            print('\\rEpisode {}\\tAverage Score: {:.2f}'.format(i_episode, np.mean(scores_window)))\n",
    "        if np.mean(scores_window) >= 13.0 and np.mean(scores_window) > last_saved:\n",
    "            print('\\nEnvironment solved in {:d} episodes!\\tAverage Score: {:.2f}'.format(i_episode - 100, np.mean(scores_window)))\n",
    "            torch.save(agent.qnetwork_local.state_dict(), 'checkpoint.pth')\n",
    "            last_saved = np.mean(scores_window)\n",
    "    return scores"
   ]
  },
  {
   "cell_type": "code",
   "execution_count": 7,
   "metadata": {},
   "outputs": [
    {
     "name": "stdout",
     "output_type": "stream",
     "text": [
      "Episode 100\tAverage Score: 4.15\n",
      "Episode 200\tAverage Score: 8.34\n",
      "Episode 299\tAverage Score: 13.03\n",
      "Environment solved in 199 episodes!\tAverage Score: 13.03\n",
      "Episode 300\tAverage Score: 12.98\n",
      "Episode 302\tAverage Score: 13.08\n",
      "Environment solved in 202 episodes!\tAverage Score: 13.08\n",
      "Episode 303\tAverage Score: 13.10\n",
      "Environment solved in 203 episodes!\tAverage Score: 13.10\n",
      "Episode 304\tAverage Score: 13.12\n",
      "Environment solved in 204 episodes!\tAverage Score: 13.12\n",
      "Episode 305\tAverage Score: 13.14\n",
      "Environment solved in 205 episodes!\tAverage Score: 13.14\n",
      "Episode 306\tAverage Score: 13.15\n",
      "Environment solved in 206 episodes!\tAverage Score: 13.15\n",
      "Episode 308\tAverage Score: 13.19\n",
      "Environment solved in 208 episodes!\tAverage Score: 13.19\n",
      "Episode 309\tAverage Score: 13.27\n",
      "Environment solved in 209 episodes!\tAverage Score: 13.27\n",
      "Episode 312\tAverage Score: 13.32\n",
      "Environment solved in 212 episodes!\tAverage Score: 13.32\n",
      "Episode 313\tAverage Score: 13.39\n",
      "Environment solved in 213 episodes!\tAverage Score: 13.39\n",
      "Episode 314\tAverage Score: 13.46\n",
      "Environment solved in 214 episodes!\tAverage Score: 13.46\n",
      "Episode 316\tAverage Score: 13.50\n",
      "Environment solved in 216 episodes!\tAverage Score: 13.50\n",
      "Episode 317\tAverage Score: 13.53\n",
      "Environment solved in 217 episodes!\tAverage Score: 13.53\n",
      "Episode 322\tAverage Score: 13.54\n",
      "Environment solved in 222 episodes!\tAverage Score: 13.54\n",
      "Episode 324\tAverage Score: 13.60\n",
      "Environment solved in 224 episodes!\tAverage Score: 13.60\n",
      "Episode 325\tAverage Score: 13.72\n",
      "Environment solved in 225 episodes!\tAverage Score: 13.72\n",
      "Episode 332\tAverage Score: 13.85\n",
      "Environment solved in 232 episodes!\tAverage Score: 13.85\n",
      "Episode 333\tAverage Score: 13.88\n",
      "Environment solved in 233 episodes!\tAverage Score: 13.88\n",
      "Episode 334\tAverage Score: 13.90\n",
      "Environment solved in 234 episodes!\tAverage Score: 13.90\n",
      "Episode 335\tAverage Score: 14.00\n",
      "Environment solved in 235 episodes!\tAverage Score: 14.00\n",
      "Episode 337\tAverage Score: 14.01\n",
      "Environment solved in 237 episodes!\tAverage Score: 14.01\n",
      "Episode 338\tAverage Score: 14.02\n",
      "Environment solved in 238 episodes!\tAverage Score: 14.02\n",
      "Episode 339\tAverage Score: 14.07\n",
      "Environment solved in 239 episodes!\tAverage Score: 14.07\n",
      "Episode 340\tAverage Score: 14.15\n",
      "Environment solved in 240 episodes!\tAverage Score: 14.15\n",
      "Episode 341\tAverage Score: 14.19\n",
      "Environment solved in 241 episodes!\tAverage Score: 14.19\n",
      "Episode 343\tAverage Score: 14.29\n",
      "Environment solved in 243 episodes!\tAverage Score: 14.29\n",
      "Episode 353\tAverage Score: 14.33\n",
      "Environment solved in 253 episodes!\tAverage Score: 14.33\n",
      "Episode 354\tAverage Score: 14.35\n",
      "Environment solved in 254 episodes!\tAverage Score: 14.35\n",
      "Episode 357\tAverage Score: 14.37\n",
      "Environment solved in 257 episodes!\tAverage Score: 14.37\n",
      "Episode 359\tAverage Score: 14.42\n",
      "Environment solved in 259 episodes!\tAverage Score: 14.42\n",
      "Episode 361\tAverage Score: 14.43\n",
      "Environment solved in 261 episodes!\tAverage Score: 14.43\n",
      "Episode 364\tAverage Score: 14.49\n",
      "Environment solved in 264 episodes!\tAverage Score: 14.49\n",
      "Episode 365\tAverage Score: 14.50\n",
      "Environment solved in 265 episodes!\tAverage Score: 14.50\n",
      "Episode 366\tAverage Score: 14.56\n",
      "Environment solved in 266 episodes!\tAverage Score: 14.56\n",
      "Episode 368\tAverage Score: 14.57\n",
      "Environment solved in 268 episodes!\tAverage Score: 14.57\n",
      "Episode 371\tAverage Score: 14.64\n",
      "Environment solved in 271 episodes!\tAverage Score: 14.64\n",
      "Episode 372\tAverage Score: 14.74\n",
      "Environment solved in 272 episodes!\tAverage Score: 14.74\n",
      "Episode 374\tAverage Score: 14.75\n",
      "Environment solved in 274 episodes!\tAverage Score: 14.75\n",
      "Episode 375\tAverage Score: 14.80\n",
      "Environment solved in 275 episodes!\tAverage Score: 14.80\n",
      "Episode 376\tAverage Score: 14.84\n",
      "Environment solved in 276 episodes!\tAverage Score: 14.84\n",
      "Episode 377\tAverage Score: 14.85\n",
      "Environment solved in 277 episodes!\tAverage Score: 14.85\n",
      "Episode 380\tAverage Score: 14.88\n",
      "Environment solved in 280 episodes!\tAverage Score: 14.88\n",
      "Episode 382\tAverage Score: 14.94\n",
      "Environment solved in 282 episodes!\tAverage Score: 14.94\n",
      "Episode 390\tAverage Score: 15.00\n",
      "Environment solved in 290 episodes!\tAverage Score: 15.00\n",
      "Episode 398\tAverage Score: 15.03\n",
      "Environment solved in 298 episodes!\tAverage Score: 15.03\n",
      "Episode 400\tAverage Score: 15.08\n",
      "\n",
      "Environment solved in 300 episodes!\tAverage Score: 15.08\n",
      "Episode 401\tAverage Score: 15.15\n",
      "Environment solved in 301 episodes!\tAverage Score: 15.15\n",
      "Episode 407\tAverage Score: 15.21\n",
      "Environment solved in 307 episodes!\tAverage Score: 15.21\n",
      "Episode 439\tAverage Score: 15.24\n",
      "Environment solved in 339 episodes!\tAverage Score: 15.24\n",
      "Episode 442\tAverage Score: 15.26\n",
      "Environment solved in 342 episodes!\tAverage Score: 15.26\n",
      "Episode 443\tAverage Score: 15.31\n",
      "Environment solved in 343 episodes!\tAverage Score: 15.31\n",
      "Episode 444\tAverage Score: 15.33\n",
      "Environment solved in 344 episodes!\tAverage Score: 15.33\n",
      "Episode 446\tAverage Score: 15.43\n",
      "Environment solved in 346 episodes!\tAverage Score: 15.43\n",
      "Episode 447\tAverage Score: 15.52\n",
      "Environment solved in 347 episodes!\tAverage Score: 15.52\n",
      "Episode 448\tAverage Score: 15.56\n",
      "Environment solved in 348 episodes!\tAverage Score: 15.56\n",
      "Episode 449\tAverage Score: 15.58\n",
      "Environment solved in 349 episodes!\tAverage Score: 15.58\n",
      "Episode 451\tAverage Score: 15.61\n",
      "Environment solved in 351 episodes!\tAverage Score: 15.61\n",
      "Episode 452\tAverage Score: 15.66\n",
      "Environment solved in 352 episodes!\tAverage Score: 15.66\n",
      "Episode 453\tAverage Score: 15.71\n",
      "Environment solved in 353 episodes!\tAverage Score: 15.71\n",
      "Episode 455\tAverage Score: 15.75\n",
      "Environment solved in 355 episodes!\tAverage Score: 15.75\n",
      "Episode 488\tAverage Score: 15.80\n",
      "Environment solved in 388 episodes!\tAverage Score: 15.80\n",
      "Episode 489\tAverage Score: 15.82\n",
      "Environment solved in 389 episodes!\tAverage Score: 15.82\n",
      "Episode 491\tAverage Score: 15.88\n",
      "Environment solved in 391 episodes!\tAverage Score: 15.88\n",
      "Episode 492\tAverage Score: 15.89\n",
      "Environment solved in 392 episodes!\tAverage Score: 15.89\n",
      "Episode 493\tAverage Score: 15.90\n",
      "Environment solved in 393 episodes!\tAverage Score: 15.90\n",
      "Episode 494\tAverage Score: 15.95\n",
      "Environment solved in 394 episodes!\tAverage Score: 15.95\n",
      "Episode 495\tAverage Score: 16.02\n",
      "Environment solved in 395 episodes!\tAverage Score: 16.02\n",
      "Episode 496\tAverage Score: 16.05\n",
      "Environment solved in 396 episodes!\tAverage Score: 16.05\n",
      "Episode 497\tAverage Score: 16.11\n",
      "Environment solved in 397 episodes!\tAverage Score: 16.11\n",
      "Episode 500\tAverage Score: 16.04\n",
      "Episode 512\tAverage Score: 16.13\n",
      "Environment solved in 412 episodes!\tAverage Score: 16.13\n",
      "Episode 515\tAverage Score: 16.20\n",
      "Environment solved in 415 episodes!\tAverage Score: 16.20\n",
      "Episode 600\tAverage Score: 14.86\n",
      "Episode 700\tAverage Score: 15.51\n",
      "Episode 800\tAverage Score: 15.81\n",
      "Episode 900\tAverage Score: 15.06\n",
      "Episode 1000\tAverage Score: 16.20\n"
     ]
    },
    {
     "data": {
      "image/png": "[encoded data removed]",
      "text/plain": [
       "<Figure size 432x288 with 1 Axes>"
      ]
     },
     "metadata": {
      "needs_background": "light"
     },
     "output_type": "display_data"
    }
   ],
   "source": [
    "scores = dqn()\n",
    "#env.close()\n",
    "\n",
    "# plot the scores\n",
    "fig = plt.figure()\n",
    "ax = fig.add_subplot(111)\n",
    "plt.plot(np.arange(len(scores)), scores)\n",
    "plt.ylabel('Score')\n",
    "plt.xlabel('Episode #')\n",
    "plt.show()"
   ]
  },
  {
   "cell_type": "code",
   "execution_count": null,
   "metadata": {},
   "outputs": [],
   "source": [
    "env = UnityEnvironment(file_name=\"/home/psardar/DRLND/deep-reinforcement-learning/p1_navigation/Banana_Linux/Banana.x86_64\")"
   ]
  },
  {
   "cell_type": "code",
   "execution_count": null,
   "metadata": {
    "collapsed": true
   },
   "outputs": [],
   "source": [
    "while True:\n",
    "    env_info = env.reset(train_mode=False)[brain_name]\n",
    "    agent.qnetwork_local.load_state_dict(torch.load('checkpoint.pth'))\n",
    "\n",
    "    score=0\n",
    "    while True:\n",
    "        action = agent.act(state)                      # select an action\n",
    "        env_info = env.step(action)[brain_name]        # send the action to the environment\n",
    "        next_state = env_info.vector_observations[0]   # get the next state\n",
    "        reward = env_info.rewards[0]                   # get the reward\n",
    "        done = env_info.local_done[0]                  # see if episode has finished\n",
    "        score += reward                                # update the score\n",
    "        state = next_state                             # roll over the state to next time step\n",
    "        if done:                                       # exit loop if episode finished\n",
    "            break\n",
    "    if score >= 20:\n",
    "        print(\"Score: {}\".format(score))\n",
    "        break\n",
    "env.close()"
   ]
  },
  {
   "cell_type": "code",
   "execution_count": null,
   "metadata": {
    "collapsed": true
   },
   "outputs": [],
   "source": []
  }
 ],
 "metadata": {
  "kernelspec": {
   "display_name": "drlnd",
   "language": "python",
   "name": "drlnd"
  },
  "language_info": {
   "codemirror_mode": {
    "name": "ipython",
    "version": 3
   },
   "file_extension": ".py",
   "mimetype": "text/x-python",
   "name": "python",
   "nbconvert_exporter": "python",
   "pygments_lexer": "ipython3",
   "version": "3.6.6"
  }
 },
 "nbformat": 4,
 "nbformat_minor": 2
}
